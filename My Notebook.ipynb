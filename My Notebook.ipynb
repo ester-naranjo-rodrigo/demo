{
    "cells": [
        {
            "cell_type": "markdown",
            "metadata": {
                "collapsed": true
            },
            "source": "# My Jupyter Notebook on IBM Watson Studio"
        },
        {
            "cell_type": "markdown",
            "metadata": {},
            "source": "**Ester Naranjo**\n100% Human"
        },
        {
            "cell_type": "markdown",
            "metadata": {},
            "source": "*I am interested in data science because I love to learn new things and I believe in data power*"
        },
        {
            "cell_type": "markdown",
            "metadata": {},
            "source": "### The following code is sum"
        },
        {
            "cell_type": "code",
            "execution_count": 4,
            "metadata": {
                "scrolled": true
            },
            "outputs": [
                {
                    "data": {
                        "text/plain": "3"
                    },
                    "execution_count": 4,
                    "metadata": {},
                    "output_type": "execute_result"
                }
            ],
            "source": "x = 1\ny = 2\nresult = x + y\nresult"
        },
        {
            "cell_type": "markdown",
            "metadata": {},
            "source": "It is a table:\n\n|    header1    |    header1    |    header1    |\n| ------------- | ------------- | ------------- |\n| raw 1 col 1   | raw 1 col 2   | raw 1 col 3   |\n| raw 2 col 1   | raw 2 col 2   | raw 2 col 3   |\n| raw 3 col 1   | raw 3 col 3   | raw 3 col 3   |\n\nIt is a ordered list:\n\n* Item 1\n* Item 2\n  * Item 2a\n  * Item 2b\n\nIt is a unordered list:\n    \n1. Item 1\n1. Item 2\n1. Item 3\n   1. Item 3a\n   1. Item 3b\n\nIt is a link:\n\nhttp://github.com - automatic!\n[GitHub](http://github.com)"
        }
    ],
    "metadata": {
        "kernelspec": {
            "display_name": "Python 3.7",
            "language": "python",
            "name": "python3"
        },
        "language_info": {
            "codemirror_mode": {
                "name": "ipython",
                "version": 3
            },
            "file_extension": ".py",
            "mimetype": "text/x-python",
            "name": "python",
            "nbconvert_exporter": "python",
            "pygments_lexer": "ipython3",
            "version": "3.7.9"
        }
    },
    "nbformat": 4,
    "nbformat_minor": 1
}